{
  "nbformat": 4,
  "nbformat_minor": 0,
  "metadata": {
    "colab": {
      "provenance": []
    },
    "kernelspec": {
      "name": "python3",
      "display_name": "Python 3"
    },
    "language_info": {
      "name": "python"
    }
  },
  "cells": [
    {
      "cell_type": "code",
      "execution_count": 7,
      "metadata": {
        "id": "9zJF4phtESug"
      },
      "outputs": [],
      "source": [
        "import pandas as pd\n",
        "import numpy as np\n",
        "import matplotlib.pyplot as plt\n",
        "import seaborn as sns\n",
        "from collections import Counter\n",
        "from sklearn.model_selection import train_test_split, StratifiedKFold, cross_val_score\n",
        "from sklearn.preprocessing import StandardScaler, LabelEncoder\n",
        "from sklearn.impute import KNNImputer\n",
        "from sklearn.svm import SVC, SVR\n",
        "from sklearn.ensemble import RandomForestClassifier, RandomForestRegressor\n",
        "from sklearn.decomposition import PCA\n",
        "from sklearn.metrics import (accuracy_score, precision_score, recall_score, f1_score, confusion_matrix, mean_squared_error, r2_score, mean_absolute_error)"
      ]
    },
    {
      "cell_type": "code",
      "source": [
        "url = 'https://raw.githubusercontent.com/sorif95/ML-Assignment/main/Housing.csv'\n",
        "df = pd.read_csv(url)\n",
        "df.isnull().sum()"
      ],
      "metadata": {
        "colab": {
          "base_uri": "https://localhost:8080/",
          "height": 523
        },
        "id": "jbf4uTbHEiwL",
        "outputId": "f0c29c61-501b-4c9b-b9d0-4f6e6cfd4be1"
      },
      "execution_count": 8,
      "outputs": [
        {
          "output_type": "execute_result",
          "data": {
            "text/plain": [
              "price               22\n",
              "area                54\n",
              "bedrooms            54\n",
              "bathrooms           54\n",
              "stories             54\n",
              "mainroad             0\n",
              "guestroom            0\n",
              "basement             0\n",
              "hotwaterheating      0\n",
              "airconditioning      0\n",
              "parking             54\n",
              "prefarea             0\n",
              "furnishingstatus     0\n",
              "price_category       0\n",
              "dtype: int64"
            ],
            "text/html": [
              "<div>\n",
              "<style scoped>\n",
              "    .dataframe tbody tr th:only-of-type {\n",
              "        vertical-align: middle;\n",
              "    }\n",
              "\n",
              "    .dataframe tbody tr th {\n",
              "        vertical-align: top;\n",
              "    }\n",
              "\n",
              "    .dataframe thead th {\n",
              "        text-align: right;\n",
              "    }\n",
              "</style>\n",
              "<table border=\"1\" class=\"dataframe\">\n",
              "  <thead>\n",
              "    <tr style=\"text-align: right;\">\n",
              "      <th></th>\n",
              "      <th>0</th>\n",
              "    </tr>\n",
              "  </thead>\n",
              "  <tbody>\n",
              "    <tr>\n",
              "      <th>price</th>\n",
              "      <td>22</td>\n",
              "    </tr>\n",
              "    <tr>\n",
              "      <th>area</th>\n",
              "      <td>54</td>\n",
              "    </tr>\n",
              "    <tr>\n",
              "      <th>bedrooms</th>\n",
              "      <td>54</td>\n",
              "    </tr>\n",
              "    <tr>\n",
              "      <th>bathrooms</th>\n",
              "      <td>54</td>\n",
              "    </tr>\n",
              "    <tr>\n",
              "      <th>stories</th>\n",
              "      <td>54</td>\n",
              "    </tr>\n",
              "    <tr>\n",
              "      <th>mainroad</th>\n",
              "      <td>0</td>\n",
              "    </tr>\n",
              "    <tr>\n",
              "      <th>guestroom</th>\n",
              "      <td>0</td>\n",
              "    </tr>\n",
              "    <tr>\n",
              "      <th>basement</th>\n",
              "      <td>0</td>\n",
              "    </tr>\n",
              "    <tr>\n",
              "      <th>hotwaterheating</th>\n",
              "      <td>0</td>\n",
              "    </tr>\n",
              "    <tr>\n",
              "      <th>airconditioning</th>\n",
              "      <td>0</td>\n",
              "    </tr>\n",
              "    <tr>\n",
              "      <th>parking</th>\n",
              "      <td>54</td>\n",
              "    </tr>\n",
              "    <tr>\n",
              "      <th>prefarea</th>\n",
              "      <td>0</td>\n",
              "    </tr>\n",
              "    <tr>\n",
              "      <th>furnishingstatus</th>\n",
              "      <td>0</td>\n",
              "    </tr>\n",
              "    <tr>\n",
              "      <th>price_category</th>\n",
              "      <td>0</td>\n",
              "    </tr>\n",
              "  </tbody>\n",
              "</table>\n",
              "</div><br><label><b>dtype:</b> int64</label>"
            ]
          },
          "metadata": {},
          "execution_count": 8
        }
      ]
    },
    {
      "cell_type": "code",
      "source": [
        "# Handle Missing Values\n",
        "knn_imputer = KNNImputer(n_neighbors=5)\n",
        "df['price'].fillna(df['price'].mean(), inplace=True)\n",
        "df['area'].fillna(df['area'].median(), inplace=True)\n",
        "df['bedrooms'].fillna(df['bedrooms'].mode()[0], inplace=True)\n",
        "df['bathrooms'] = knn_imputer.fit_transform(df[['bathrooms']])\n",
        "df['stories'].fillna(df['stories'].median(), inplace=True)\n",
        "df['parking'].fillna(df['parking'].mode()[0], inplace=True)\n",
        "\n",
        "# Encode Categorical Variables\n",
        "label_encoders = {}\n",
        "for column in df.select_dtypes(include=['object']).columns:\n",
        "    le = LabelEncoder()\n",
        "    df[column] = le.fit_transform(df[column])\n",
        "    label_encoders[column] = le\n",
        "\n",
        "# Normalize Numeric Features\n",
        "scaler = StandardScaler()\n",
        "numeric_columns = df.select_dtypes(include=['int64', 'float64']).columns\n",
        "df[numeric_columns] = scaler.fit_transform(df[numeric_columns])\n",
        "\n",
        "# Create Parking Binary Classification Target\n",
        "df['parking_binary'] = df['parking'].apply(lambda x: 0 if x <= 1 else 1)"
      ],
      "metadata": {
        "colab": {
          "base_uri": "https://localhost:8080/"
        },
        "id": "kHEidZj0En3R",
        "outputId": "eab1ff44-5342-40a8-b815-d14948c1a276"
      },
      "execution_count": 9,
      "outputs": [
        {
          "output_type": "stream",
          "name": "stderr",
          "text": [
            "<ipython-input-9-789c27d70ba4>:3: FutureWarning: A value is trying to be set on a copy of a DataFrame or Series through chained assignment using an inplace method.\n",
            "The behavior will change in pandas 3.0. This inplace method will never work because the intermediate object on which we are setting values always behaves as a copy.\n",
            "\n",
            "For example, when doing 'df[col].method(value, inplace=True)', try using 'df.method({col: value}, inplace=True)' or df[col] = df[col].method(value) instead, to perform the operation inplace on the original object.\n",
            "\n",
            "\n",
            "  df['price'].fillna(df['price'].mean(), inplace=True)\n",
            "<ipython-input-9-789c27d70ba4>:4: FutureWarning: A value is trying to be set on a copy of a DataFrame or Series through chained assignment using an inplace method.\n",
            "The behavior will change in pandas 3.0. This inplace method will never work because the intermediate object on which we are setting values always behaves as a copy.\n",
            "\n",
            "For example, when doing 'df[col].method(value, inplace=True)', try using 'df.method({col: value}, inplace=True)' or df[col] = df[col].method(value) instead, to perform the operation inplace on the original object.\n",
            "\n",
            "\n",
            "  df['area'].fillna(df['area'].median(), inplace=True)\n",
            "<ipython-input-9-789c27d70ba4>:5: FutureWarning: A value is trying to be set on a copy of a DataFrame or Series through chained assignment using an inplace method.\n",
            "The behavior will change in pandas 3.0. This inplace method will never work because the intermediate object on which we are setting values always behaves as a copy.\n",
            "\n",
            "For example, when doing 'df[col].method(value, inplace=True)', try using 'df.method({col: value}, inplace=True)' or df[col] = df[col].method(value) instead, to perform the operation inplace on the original object.\n",
            "\n",
            "\n",
            "  df['bedrooms'].fillna(df['bedrooms'].mode()[0], inplace=True)\n",
            "<ipython-input-9-789c27d70ba4>:7: FutureWarning: A value is trying to be set on a copy of a DataFrame or Series through chained assignment using an inplace method.\n",
            "The behavior will change in pandas 3.0. This inplace method will never work because the intermediate object on which we are setting values always behaves as a copy.\n",
            "\n",
            "For example, when doing 'df[col].method(value, inplace=True)', try using 'df.method({col: value}, inplace=True)' or df[col] = df[col].method(value) instead, to perform the operation inplace on the original object.\n",
            "\n",
            "\n",
            "  df['stories'].fillna(df['stories'].median(), inplace=True)\n",
            "<ipython-input-9-789c27d70ba4>:8: FutureWarning: A value is trying to be set on a copy of a DataFrame or Series through chained assignment using an inplace method.\n",
            "The behavior will change in pandas 3.0. This inplace method will never work because the intermediate object on which we are setting values always behaves as a copy.\n",
            "\n",
            "For example, when doing 'df[col].method(value, inplace=True)', try using 'df.method({col: value}, inplace=True)' or df[col] = df[col].method(value) instead, to perform the operation inplace on the original object.\n",
            "\n",
            "\n",
            "  df['parking'].fillna(df['parking'].mode()[0], inplace=True)\n"
          ]
        }
      ]
    },
    {
      "cell_type": "code",
      "source": [
        "# Define Features and Targets\n",
        "X = df.drop(columns=['price', 'parking_binary'])  # Features\n",
        "y_classification = df['parking_binary']  # Classification Target\n",
        "y_regression = df['price']  # Regression Target\n",
        "\n",
        "# Split Data\n",
        "X_train_cls, X_test_cls, y_train_cls, y_test_cls = train_test_split(\n",
        "    X, y_classification, test_size=0.2, random_state=42, stratify=y_classification\n",
        ")\n",
        "X_train_reg, X_test_reg, y_train_reg, y_test_reg = train_test_split(\n",
        "    X, y_regression, test_size=0.2, random_state=42\n",
        ")\n",
        "\n",
        "# Feature Selection Using Random Forest Importance\n",
        "rf_classifier = RandomForestClassifier(n_estimators=100, random_state=42)\n",
        "rf_classifier.fit(X_train_cls, y_train_cls)\n",
        "\n",
        "# Select Top Features Based on Importance\n",
        "feature_importance = pd.Series(rf_classifier.feature_importances_, index=X.columns).sort_values(ascending=False)\n",
        "top_features = feature_importance[:8].index  # Select Top 8 Features\n",
        "\n",
        "X_train_cls_selected = X_train_cls[top_features]\n",
        "X_test_cls_selected = X_test_cls[top_features]\n",
        "\n",
        "# Apply PCA to Reduce Dimensionality\n",
        "pca = PCA(n_components=5)  # Reduce to 5 Principal Components\n",
        "X_train_cls_pca = pca.fit_transform(X_train_cls_selected)\n",
        "X_test_cls_pca = pca.transform(X_test_cls_selected)\n",
        "\n",
        "# Train SVM Classifier with RBF Kernel and Class Weighting\n",
        "svm_classifier = SVC(kernel='rbf', C=1.0, gamma='scale', class_weight='balanced', random_state=42)\n",
        "\n",
        "# Cross-validation\n",
        "skf = StratifiedKFold(n_splits=10, shuffle=True, random_state=42)\n",
        "cross_val_scores = cross_val_score(svm_classifier, X_train_cls_pca, y_train_cls, cv=skf, scoring='f1')\n",
        "print(f\"Cross-Val F1: {np.mean(cross_val_scores):.2f} ± {np.std(cross_val_scores):.2f}\")"
      ],
      "metadata": {
        "colab": {
          "base_uri": "https://localhost:8080/"
        },
        "id": "gquSgBIPFNWl",
        "outputId": "3a833dd9-aba4-4926-8e78-a43699150760"
      },
      "execution_count": 10,
      "outputs": [
        {
          "output_type": "stream",
          "name": "stdout",
          "text": [
            "Cross-Val F1: 0.80 ± 0.07\n"
          ]
        }
      ]
    },
    {
      "cell_type": "code",
      "source": [
        "# Train and Evaluate Classification Model\n",
        "svm_classifier.fit(X_train_cls_pca, y_train_cls)\n",
        "y_pred_cls = svm_classifier.predict(X_test_cls_pca)\n",
        "\n",
        "# Classification Metrics\n",
        "print(\"Classification Metrics:\")\n",
        "print(f\"Test Accuracy: {accuracy_score(y_test_cls, y_pred_cls):.2f}\")\n",
        "print(f\"Precision: {precision_score(y_test_cls, y_pred_cls):.2f}\")\n",
        "print(f\"Recall: {recall_score(y_test_cls, y_pred_cls):.2f}\")\n",
        "print(f\"F1-score: {f1_score(y_test_cls, y_pred_cls):.2f}\")"
      ],
      "metadata": {
        "colab": {
          "base_uri": "https://localhost:8080/"
        },
        "id": "14sZEhRfHZTp",
        "outputId": "f52ea4a9-e5e4-46e7-e897-f3a95384bae1"
      },
      "execution_count": 15,
      "outputs": [
        {
          "output_type": "stream",
          "name": "stdout",
          "text": [
            "Classification Metrics:\n",
            "Test Accuracy: 0.91\n",
            "Precision: 0.69\n",
            "Recall: 1.00\n",
            "F1-score: 0.81\n"
          ]
        }
      ]
    },
    {
      "cell_type": "code",
      "source": [
        "# Confusion Matrix Visualization\n",
        "plt.figure(figsize=(6,5))\n",
        "sns.heatmap(confusion_matrix(y_test_cls, y_pred_cls), annot=True, fmt='d', cmap='Blues',\n",
        "            xticklabels=[\"No Parking\", \"Parking\"], yticklabels=[\"No Parking\", \"Parking\"])\n",
        "plt.title(\"Updated Confusion Matrix\")\n",
        "plt.xlabel(\"Predicted\")\n",
        "plt.ylabel(\"Actual\")\n",
        "plt.show()"
      ],
      "metadata": {
        "colab": {
          "base_uri": "https://localhost:8080/",
          "height": 487
        },
        "id": "mQARx4YVHhND",
        "outputId": "47f0649e-1f47-4daa-c5de-b78f8e63f32d"
      },
      "execution_count": 12,
      "outputs": [
        {
          "output_type": "display_data",
          "data": {
            "text/plain": [
              "<Figure size 600x500 with 2 Axes>"
            ],
            "image/png": "[encoded data removed]"
          },
          "metadata": {}
        }
      ]
    },
    {
      "cell_type": "code",
      "source": [
        "# Train SVM Regressor (No Changes to Regression)\n",
        "svm_regressor = SVR(kernel='linear', C=0.1)\n",
        "svm_regressor.fit(X_train_reg, y_train_reg)\n",
        "y_pred_reg = svm_regressor.predict(X_test_reg)\n",
        "\n",
        "# Regression Metrics\n",
        "mse = mean_squared_error(y_test_reg, y_pred_reg)\n",
        "rmse = np.sqrt(mse)\n",
        "r2 = r2_score(y_test_reg, y_pred_reg)\n",
        "mae = mean_absolute_error(y_test_reg, y_pred_reg)\n",
        "\n",
        "print(\"\\nRegression Metrics:\")\n",
        "print(f\"MSE: {mse:.2f}\")\n",
        "print(f\"RMSE: {rmse:.2f}\")\n",
        "print(f\"MAE: {mae:.2f}\")\n",
        "print(f\"R² score: {r2:.2f}\")\n"
      ],
      "metadata": {
        "colab": {
          "base_uri": "https://localhost:8080/"
        },
        "id": "OiFx-PtSHtdZ",
        "outputId": "6bf52fe2-5149-4532-f612-2e17733d3455"
      },
      "execution_count": 13,
      "outputs": [
        {
          "output_type": "stream",
          "name": "stdout",
          "text": [
            "\n",
            "Regression Metrics:\n",
            "MSE: 0.47\n",
            "RMSE: 0.69\n",
            "MAE: 0.46\n",
            "R² score: 0.66\n"
          ]
        }
      ]
    },
    {
      "cell_type": "code",
      "source": [
        "# Regression Error Distribution Visualization\n",
        "plt.figure(figsize=(8,5))\n",
        "sns.histplot(y_test_reg - y_pred_reg, bins=30, kde=True, color='red')\n",
        "plt.title(\"Regression Error Distribution\")\n",
        "plt.xlabel(\"Prediction Error\")\n",
        "plt.show()"
      ],
      "metadata": {
        "colab": {
          "base_uri": "https://localhost:8080/",
          "height": 487
        },
        "id": "zAq6VkoQHvzK",
        "outputId": "7117368e-564e-4e83-c914-87ffa9428ff9"
      },
      "execution_count": 14,
      "outputs": [
        {
          "output_type": "display_data",
          "data": {
            "text/plain": [
              "<Figure size 800x500 with 1 Axes>"
            ],
            "image/png": "[encoded data removed]"
          },
          "metadata": {}
        }
      ]
    }
  ]
}
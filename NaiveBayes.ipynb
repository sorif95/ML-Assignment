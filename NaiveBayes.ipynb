{
  "nbformat": 4,
  "nbformat_minor": 0,
  "metadata": {
    "colab": {
      "provenance": []
    },
    "kernelspec": {
      "name": "python3",
      "display_name": "Python 3"
    },
    "language_info": {
      "name": "python"
    }
  },
  "cells": [
    {
      "cell_type": "code",
      "execution_count": null,
      "metadata": {
        "id": "pbjoZohgBfIX"
      },
      "outputs": [],
      "source": [
        "import pandas as pd\n",
        "import numpy as np\n",
        "import matplotlib.pyplot as plt\n",
        "import seaborn as sns\n",
        "from sklearn.model_selection import train_test_split, StratifiedKFold, cross_val_score\n",
        "from sklearn.preprocessing import StandardScaler, LabelEncoder\n",
        "from sklearn.impute import KNNImputer\n",
        "from sklearn.naive_bayes import GaussianNB\n",
        "from sklearn.ensemble import RandomForestRegressor\n",
        "from sklearn.metrics import accuracy_score, precision_score, recall_score, f1_score, confusion_matrix, mean_squared_error, r2_score, mean_absolute_error"
      ]
    },
    {
      "cell_type": "markdown",
      "source": [
        "Loading Housing Prices Dataset\n",
        "and Display Total count of missing values per column"
      ],
      "metadata": {
        "id": "Vv7obEdSoGUW"
      }
    },
    {
      "cell_type": "code",
      "source": [
        "url = 'https://raw.githubusercontent.com/sorif95/ML-Assignment/main/Housing.csv'\n",
        "df = pd.read_csv(url)\n",
        "\n",
        "df.info()"
      ],
      "metadata": {
        "colab": {
          "base_uri": "https://localhost:8080/"
        },
        "id": "CeeUwiwnB0fv",
        "outputId": "3c9273f3-89d2-43b4-d0d4-a0d7b38ee0d7"
      },
      "execution_count": null,
      "outputs": [
        {
          "output_type": "stream",
          "name": "stdout",
          "text": [
            "<class 'pandas.core.frame.DataFrame'>\n",
            "RangeIndex: 545 entries, 0 to 544\n",
            "Data columns (total 14 columns):\n",
            " #   Column            Non-Null Count  Dtype  \n",
            "---  ------            --------------  -----  \n",
            " 0   price             523 non-null    float64\n",
            " 1   area              491 non-null    float64\n",
            " 2   bedrooms          491 non-null    float64\n",
            " 3   bathrooms         491 non-null    float64\n",
            " 4   stories           491 non-null    float64\n",
            " 5   mainroad          545 non-null    object \n",
            " 6   guestroom         545 non-null    object \n",
            " 7   basement          545 non-null    object \n",
            " 8   hotwaterheating   545 non-null    object \n",
            " 9   airconditioning   545 non-null    object \n",
            " 10  parking           491 non-null    float64\n",
            " 11  prefarea          545 non-null    object \n",
            " 12  furnishingstatus  545 non-null    object \n",
            " 13  price_category    545 non-null    int64  \n",
            "dtypes: float64(6), int64(1), object(7)\n",
            "memory usage: 59.7+ KB\n"
          ]
        }
      ]
    },
    {
      "cell_type": "code",
      "source": [
        "df.isnull().sum()"
      ],
      "metadata": {
        "colab": {
          "base_uri": "https://localhost:8080/",
          "height": 523
        },
        "id": "0FCAkZ0NmIpa",
        "outputId": "6ce50921-2519-4afe-84d5-d6504f902b54"
      },
      "execution_count": null,
      "outputs": [
        {
          "output_type": "execute_result",
          "data": {
            "text/plain": [
              "price               22\n",
              "area                54\n",
              "bedrooms            54\n",
              "bathrooms           54\n",
              "stories             54\n",
              "mainroad             0\n",
              "guestroom            0\n",
              "basement             0\n",
              "hotwaterheating      0\n",
              "airconditioning      0\n",
              "parking             54\n",
              "prefarea             0\n",
              "furnishingstatus     0\n",
              "price_category       0\n",
              "dtype: int64"
            ],
            "text/html": [
              "<div>\n",
              "<style scoped>\n",
              "    .dataframe tbody tr th:only-of-type {\n",
              "        vertical-align: middle;\n",
              "    }\n",
              "\n",
              "    .dataframe tbody tr th {\n",
              "        vertical-align: top;\n",
              "    }\n",
              "\n",
              "    .dataframe thead th {\n",
              "        text-align: right;\n",
              "    }\n",
              "</style>\n",
              "<table border=\"1\" class=\"dataframe\">\n",
              "  <thead>\n",
              "    <tr style=\"text-align: right;\">\n",
              "      <th></th>\n",
              "      <th>0</th>\n",
              "    </tr>\n",
              "  </thead>\n",
              "  <tbody>\n",
              "    <tr>\n",
              "      <th>price</th>\n",
              "      <td>22</td>\n",
              "    </tr>\n",
              "    <tr>\n",
              "      <th>area</th>\n",
              "      <td>54</td>\n",
              "    </tr>\n",
              "    <tr>\n",
              "      <th>bedrooms</th>\n",
              "      <td>54</td>\n",
              "    </tr>\n",
              "    <tr>\n",
              "      <th>bathrooms</th>\n",
              "      <td>54</td>\n",
              "    </tr>\n",
              "    <tr>\n",
              "      <th>stories</th>\n",
              "      <td>54</td>\n",
              "    </tr>\n",
              "    <tr>\n",
              "      <th>mainroad</th>\n",
              "      <td>0</td>\n",
              "    </tr>\n",
              "    <tr>\n",
              "      <th>guestroom</th>\n",
              "      <td>0</td>\n",
              "    </tr>\n",
              "    <tr>\n",
              "      <th>basement</th>\n",
              "      <td>0</td>\n",
              "    </tr>\n",
              "    <tr>\n",
              "      <th>hotwaterheating</th>\n",
              "      <td>0</td>\n",
              "    </tr>\n",
              "    <tr>\n",
              "      <th>airconditioning</th>\n",
              "      <td>0</td>\n",
              "    </tr>\n",
              "    <tr>\n",
              "      <th>parking</th>\n",
              "      <td>54</td>\n",
              "    </tr>\n",
              "    <tr>\n",
              "      <th>prefarea</th>\n",
              "      <td>0</td>\n",
              "    </tr>\n",
              "    <tr>\n",
              "      <th>furnishingstatus</th>\n",
              "      <td>0</td>\n",
              "    </tr>\n",
              "    <tr>\n",
              "      <th>price_category</th>\n",
              "      <td>0</td>\n",
              "    </tr>\n",
              "  </tbody>\n",
              "</table>\n",
              "</div><br><label><b>dtype:</b> int64</label>"
            ]
          },
          "metadata": {},
          "execution_count": 69
        }
      ]
    },
    {
      "cell_type": "markdown",
      "source": [
        "Preprocess the dataset"
      ],
      "metadata": {
        "id": "wfPuIUEHs1V2"
      }
    },
    {
      "cell_type": "code",
      "source": [
        "# Handle missing values\n",
        "df = df.copy()  # Avoid SettingWithCopyWarning\n",
        "df.loc[:, 'price'] = df['price'].fillna(df['price'].mean())\n",
        "df.loc[:, 'area'] = df['area'].fillna(df['area'].median())\n",
        "df.loc[:, 'bedrooms'] = df['bedrooms'].fillna(df['bedrooms'].mode()[0])\n",
        "knn_imputer = KNNImputer(n_neighbors=5)\n",
        "df.loc[:, 'bathrooms'] = knn_imputer.fit_transform(df[['bathrooms']])\n",
        "df.loc[:, 'stories'] = df['stories'].fillna(df['stories'].median())\n",
        "df.loc[:, 'parking'] = df['parking'].fillna(df['parking'].mode()[0])\n",
        "\n",
        "# Encode categorical variables\n",
        "label_encoders = {}\n",
        "for column in df.select_dtypes(include=['object']).columns:\n",
        "    le = LabelEncoder()\n",
        "    df.loc[:, column] = le.fit_transform(df[column])\n",
        "    label_encoders[column] = le\n",
        "\n",
        "# Normalize numerical features\n",
        "scaler = StandardScaler()\n",
        "numeric_columns = df.select_dtypes(include=['int64', 'float64']).columns\n",
        "df.loc[:, numeric_columns] = scaler.fit_transform(df[numeric_columns])\n",
        "\n",
        "# Convert 'parking' into binary classification\n",
        "df['parking_binary'] = df['parking'].apply(lambda x: 0 if x <= 1 else 1)\n",
        "\n",
        "# Check class imbalance\n",
        "class_counts = df['parking_binary'].value_counts()\n",
        "print(\"Class Distribution:\")\n",
        "print(class_counts)"
      ],
      "metadata": {
        "colab": {
          "base_uri": "https://localhost:8080/"
        },
        "id": "5N9nVy4CCa3Q",
        "outputId": "0a101902-d801-4e91-bb68-ac212b604741"
      },
      "execution_count": null,
      "outputs": [
        {
          "output_type": "stream",
          "name": "stdout",
          "text": [
            "Class Distribution:\n",
            "parking_binary\n",
            "0    436\n",
            "1    109\n",
            "Name: count, dtype: int64\n"
          ]
        },
        {
          "output_type": "stream",
          "name": "stderr",
          "text": [
            "<ipython-input-70-5395cc1b2621>:21: FutureWarning: Setting an item of incompatible dtype is deprecated and will raise in a future error of pandas. Value '[ 1.76004101  1.76004101 -0.56816858  1.76004101  1.76004101 -0.56816858\n",
            "  1.76004101  1.76004101  1.76004101 -0.56816858  1.76004101  1.76004101\n",
            " -0.56816858  1.76004101  1.76004101  1.76004101  1.76004101 -0.56816858\n",
            " -0.56816858  1.76004101  1.76004101  1.76004101  1.76004101 -0.56816858\n",
            "  1.76004101 -0.56816858  1.76004101  1.76004101  1.76004101  1.76004101\n",
            "  1.76004101  1.76004101  1.76004101  1.76004101  1.76004101  1.76004101\n",
            " -0.56816858  1.76004101  1.76004101  1.76004101  1.76004101  1.76004101\n",
            " -0.56816858  1.76004101  1.76004101  1.76004101  1.76004101  1.76004101\n",
            "  1.76004101 -0.56816858  1.76004101  1.76004101  1.76004101  1.76004101\n",
            "  1.76004101 -0.56816858  1.76004101  1.76004101  1.76004101  1.76004101\n",
            " -0.56816858  1.76004101  1.76004101  1.76004101  1.76004101  1.76004101\n",
            "  1.76004101  1.76004101  1.76004101  1.76004101  1.76004101  1.76004101\n",
            "  1.76004101  1.76004101  1.76004101 -0.56816858  1.76004101  1.76004101\n",
            "  1.76004101 -0.56816858  1.76004101  1.76004101 -0.56816858  1.76004101\n",
            "  1.76004101  1.76004101  1.76004101  1.76004101  1.76004101  1.76004101\n",
            "  1.76004101  1.76004101 -0.56816858  1.76004101  1.76004101 -0.56816858\n",
            "  1.76004101  1.76004101  1.76004101  1.76004101  1.76004101  1.76004101\n",
            " -0.56816858  1.76004101  1.76004101  1.76004101  1.76004101  1.76004101\n",
            "  1.76004101  1.76004101 -0.56816858  1.76004101  1.76004101 -0.56816858\n",
            "  1.76004101  1.76004101  1.76004101  1.76004101  1.76004101  1.76004101\n",
            "  1.76004101 -0.56816858  1.76004101  1.76004101  1.76004101  1.76004101\n",
            "  1.76004101  1.76004101 -0.56816858 -0.56816858  1.76004101  1.76004101\n",
            "  1.76004101  1.76004101 -0.56816858  1.76004101  1.76004101  1.76004101\n",
            "  1.76004101  1.76004101  1.76004101  1.76004101  1.76004101  1.76004101\n",
            "  1.76004101  1.76004101  1.76004101  1.76004101  1.76004101  1.76004101\n",
            "  1.76004101 -0.56816858  1.76004101  1.76004101  1.76004101  1.76004101\n",
            "  1.76004101  1.76004101  1.76004101 -0.56816858 -0.56816858 -0.56816858\n",
            " -0.56816858 -0.56816858 -0.56816858 -0.56816858 -0.56816858 -0.56816858\n",
            " -0.56816858 -0.56816858 -0.56816858 -0.56816858 -0.56816858 -0.56816858\n",
            " -0.56816858 -0.56816858 -0.56816858 -0.56816858 -0.56816858 -0.56816858\n",
            " -0.56816858 -0.56816858 -0.56816858 -0.56816858 -0.56816858 -0.56816858\n",
            " -0.56816858 -0.56816858 -0.56816858 -0.56816858 -0.56816858 -0.56816858\n",
            " -0.56816858 -0.56816858 -0.56816858 -0.56816858 -0.56816858 -0.56816858\n",
            " -0.56816858 -0.56816858 -0.56816858 -0.56816858 -0.56816858 -0.56816858\n",
            " -0.56816858 -0.56816858 -0.56816858 -0.56816858 -0.56816858 -0.56816858\n",
            " -0.56816858 -0.56816858 -0.56816858 -0.56816858 -0.56816858 -0.56816858\n",
            " -0.56816858 -0.56816858 -0.56816858 -0.56816858 -0.56816858 -0.56816858\n",
            " -0.56816858 -0.56816858 -0.56816858 -0.56816858 -0.56816858 -0.56816858\n",
            " -0.56816858 -0.56816858 -0.56816858 -0.56816858 -0.56816858 -0.56816858\n",
            " -0.56816858 -0.56816858 -0.56816858 -0.56816858 -0.56816858 -0.56816858\n",
            " -0.56816858 -0.56816858 -0.56816858 -0.56816858 -0.56816858 -0.56816858\n",
            " -0.56816858 -0.56816858 -0.56816858 -0.56816858 -0.56816858 -0.56816858\n",
            " -0.56816858 -0.56816858 -0.56816858 -0.56816858 -0.56816858 -0.56816858\n",
            " -0.56816858 -0.56816858 -0.56816858 -0.56816858 -0.56816858 -0.56816858\n",
            " -0.56816858 -0.56816858 -0.56816858 -0.56816858 -0.56816858 -0.56816858\n",
            " -0.56816858 -0.56816858 -0.56816858 -0.56816858 -0.56816858 -0.56816858\n",
            " -0.56816858 -0.56816858 -0.56816858 -0.56816858 -0.56816858 -0.56816858\n",
            " -0.56816858 -0.56816858 -0.56816858 -0.56816858 -0.56816858 -0.56816858\n",
            " -0.56816858 -0.56816858 -0.56816858 -0.56816858 -0.56816858 -0.56816858\n",
            " -0.56816858 -0.56816858 -0.56816858 -0.56816858 -0.56816858 -0.56816858\n",
            " -0.56816858 -0.56816858 -0.56816858 -0.56816858 -0.56816858 -0.56816858\n",
            " -0.56816858 -0.56816858 -0.56816858 -0.56816858 -0.56816858 -0.56816858\n",
            " -0.56816858 -0.56816858 -0.56816858 -0.56816858 -0.56816858 -0.56816858\n",
            " -0.56816858 -0.56816858 -0.56816858 -0.56816858 -0.56816858 -0.56816858\n",
            " -0.56816858 -0.56816858 -0.56816858 -0.56816858 -0.56816858 -0.56816858\n",
            " -0.56816858 -0.56816858 -0.56816858 -0.56816858 -0.56816858 -0.56816858\n",
            " -0.56816858 -0.56816858 -0.56816858 -0.56816858 -0.56816858 -0.56816858\n",
            " -0.56816858 -0.56816858 -0.56816858 -0.56816858 -0.56816858 -0.56816858\n",
            " -0.56816858 -0.56816858 -0.56816858 -0.56816858 -0.56816858 -0.56816858\n",
            " -0.56816858 -0.56816858 -0.56816858 -0.56816858 -0.56816858 -0.56816858\n",
            " -0.56816858 -0.56816858 -0.56816858 -0.56816858 -0.56816858 -0.56816858\n",
            " -0.56816858 -0.56816858 -0.56816858 -0.56816858 -0.56816858 -0.56816858\n",
            " -0.56816858 -0.56816858 -0.56816858 -0.56816858 -0.56816858 -0.56816858\n",
            " -0.56816858 -0.56816858 -0.56816858 -0.56816858 -0.56816858 -0.56816858\n",
            " -0.56816858 -0.56816858 -0.56816858 -0.56816858 -0.56816858 -0.56816858\n",
            " -0.56816858 -0.56816858 -0.56816858 -0.56816858 -0.56816858 -0.56816858\n",
            " -0.56816858 -0.56816858 -0.56816858 -0.56816858 -0.56816858 -0.56816858\n",
            " -0.56816858 -0.56816858 -0.56816858 -0.56816858 -0.56816858 -0.56816858\n",
            " -0.56816858 -0.56816858 -0.56816858 -0.56816858 -0.56816858 -0.56816858\n",
            " -0.56816858 -0.56816858 -0.56816858 -0.56816858 -0.56816858 -0.56816858\n",
            " -0.56816858 -0.56816858 -0.56816858 -0.56816858 -0.56816858 -0.56816858\n",
            " -0.56816858 -0.56816858 -0.56816858 -0.56816858 -0.56816858 -0.56816858\n",
            " -0.56816858 -0.56816858 -0.56816858 -0.56816858 -0.56816858 -0.56816858\n",
            " -0.56816858 -0.56816858 -0.56816858 -0.56816858 -0.56816858 -0.56816858\n",
            " -0.56816858 -0.56816858 -0.56816858 -0.56816858 -0.56816858 -0.56816858\n",
            " -0.56816858 -0.56816858 -0.56816858 -0.56816858 -0.56816858 -0.56816858\n",
            " -0.56816858 -0.56816858 -0.56816858 -0.56816858 -0.56816858 -0.56816858\n",
            " -0.56816858 -0.56816858 -0.56816858 -0.56816858 -0.56816858 -0.56816858\n",
            " -0.56816858 -0.56816858 -0.56816858 -0.56816858 -0.56816858 -0.56816858\n",
            " -0.56816858 -0.56816858 -0.56816858 -0.56816858 -0.56816858 -0.56816858\n",
            " -0.56816858 -0.56816858 -0.56816858 -0.56816858 -0.56816858 -0.56816858\n",
            " -0.56816858 -0.56816858 -0.56816858 -0.56816858 -0.56816858 -0.56816858\n",
            " -0.56816858 -0.56816858 -0.56816858 -0.56816858 -0.56816858 -0.56816858\n",
            " -0.56816858 -0.56816858 -0.56816858 -0.56816858 -0.56816858 -0.56816858\n",
            " -0.56816858 -0.56816858 -0.56816858 -0.56816858 -0.56816858 -0.56816858\n",
            " -0.56816858 -0.56816858 -0.56816858 -0.56816858 -0.56816858 -0.56816858\n",
            " -0.56816858 -0.56816858 -0.56816858 -0.56816858 -0.56816858 -0.56816858\n",
            " -0.56816858 -0.56816858 -0.56816858 -0.56816858 -0.56816858 -0.56816858\n",
            " -0.56816858 -0.56816858 -0.56816858 -0.56816858 -0.56816858 -0.56816858\n",
            " -0.56816858 -0.56816858 -0.56816858 -0.56816858 -0.56816858 -0.56816858\n",
            " -0.56816858 -0.56816858 -0.56816858 -0.56816858 -0.56816858]' has dtype incompatible with int64, please explicitly cast to a compatible dtype first.\n",
            "  df.loc[:, numeric_columns] = scaler.fit_transform(df[numeric_columns])\n"
          ]
        }
      ]
    },
    {
      "cell_type": "markdown",
      "source": [
        "Train Model"
      ],
      "metadata": {
        "id": "rdG78q2xDxvl"
      }
    },
    {
      "cell_type": "code",
      "source": [
        "# Define features and targets\n",
        "X = df.drop(columns=['price', 'parking_binary'])  # Features\n",
        "y_classification = df['parking_binary']  # Classification target\n",
        "y_regression = df['price']  # Regression target\n",
        "\n",
        "# Split data\n",
        "X_train_cls, X_test_cls, y_train_cls, y_test_cls = train_test_split(X, y_classification, test_size=0.2, random_state=42, stratify=y_classification)\n",
        "X_train_reg, X_test_reg, y_train_reg, y_test_reg = train_test_split(X, y_regression, test_size=0.2, random_state=42)\n"
      ],
      "metadata": {
        "id": "IIimsau4Dznu"
      },
      "execution_count": null,
      "outputs": []
    },
    {
      "cell_type": "code",
      "source": [
        "# Train Naive Bayes Classifier with Cross-Validation\n",
        "nb_classifier = GaussianNB()\n",
        "skf = StratifiedKFold(n_splits=5, shuffle=True, random_state=42)\n",
        "cross_val_scores = cross_val_score(nb_classifier, X_train_cls, y_train_cls, cv=skf, scoring='accuracy')\n",
        "nb_classifier.fit(X_train_cls, y_train_cls)\n",
        "y_pred_cls = nb_classifier.predict(X_test_cls)\n",
        "\n",
        "# Classification Metrics\n",
        "print(\"Classification Metrics:\")\n",
        "print(f\"Cross-Validation Accuracy: {np.mean(cross_val_scores):.2f} ± {np.std(cross_val_scores):.2f}\")\n",
        "print(f\"Test Accuracy: {accuracy_score(y_test_cls, y_pred_cls):.2f}\")\n",
        "print(f\"Precision: {precision_score(y_test_cls, y_pred_cls):.2f}\")\n",
        "print(f\"Recall: {recall_score(y_test_cls, y_pred_cls):.2f}\")\n",
        "print(f\"F1-score: {f1_score(y_test_cls, y_pred_cls):.2f}\")"
      ],
      "metadata": {
        "colab": {
          "base_uri": "https://localhost:8080/"
        },
        "id": "9DdYdzEND5Vp",
        "outputId": "2cf940e7-39a4-4397-b4a6-d0956c32c939"
      },
      "execution_count": null,
      "outputs": [
        {
          "output_type": "stream",
          "name": "stdout",
          "text": [
            "Classification Metrics:\n",
            "Cross-Validation Accuracy: 0.98 ± 0.01\n",
            "Test Accuracy: 0.99\n",
            "Precision: 0.96\n",
            "Recall: 1.00\n",
            "F1-score: 0.98\n"
          ]
        }
      ]
    },
    {
      "cell_type": "code",
      "source": [
        "# Confusion Matrix Visualization\n",
        "plt.figure(figsize=(6,5))\n",
        "sns.heatmap(confusion_matrix(y_test_cls, y_pred_cls), annot=True, fmt='d', cmap='Blues',\n",
        "            xticklabels=[\"No Parking\", \"Parking\"], yticklabels=[\"No Parking\", \"Parking\"])\n",
        "plt.title(\"Confusion Matrix\")\n",
        "plt.xlabel(\"Predicted\")\n",
        "plt.ylabel(\"Actual\")\n",
        "plt.show()"
      ],
      "metadata": {
        "colab": {
          "base_uri": "https://localhost:8080/",
          "height": 487
        },
        "id": "xSu5V-npD-ye",
        "outputId": "e67a0f12-2f0c-4bf0-a4e2-bbc28e894252"
      },
      "execution_count": null,
      "outputs": [
        {
          "output_type": "display_data",
          "data": {
            "text/plain": [
              "<Figure size 600x500 with 2 Axes>"
            ],
            "image/png": "[encoded data removed]"
          },
          "metadata": {}
        }
      ]
    },
    {
      "cell_type": "code",
      "source": [
        "# Train Naive Bayes Regressor using Discretization\n",
        "from sklearn.preprocessing import KBinsDiscretizer\n",
        "\n",
        "# Split data for regression\n",
        "X_train_reg, X_test_reg, y_train_reg, y_test_reg = train_test_split(X, y_regression, test_size=0.2, random_state=42)\n",
        "\n",
        "# Discretize the target variable using quantile-based bins\n",
        "bins = 10\n",
        "discretizer = KBinsDiscretizer(n_bins=bins, encode='ordinal', strategy='quantile', random_state=42)\n",
        "y_train_reg_binned = discretizer.fit_transform(y_train_reg.values.reshape(-1, 1)).ravel().astype(int)\n",
        "y_test_reg_binned = discretizer.transform(y_test_reg.values.reshape(-1, 1)).ravel().astype(int)\n",
        "\n",
        "# Train Naive Bayes classifier on the binned target\n",
        "nb_regressor = GaussianNB()\n",
        "nb_regressor.fit(X_train_reg, y_train_reg_binned)\n",
        "y_pred_reg_binned = nb_regressor.predict(X_test_reg)\n",
        "\n",
        "# Convert predicted bins back to continuous values using bin centers\n",
        "bin_edges = discretizer.bin_edges_[0]\n",
        "bin_centers = (bin_edges[:-1] + bin_edges[1:]) / 2\n",
        "y_pred_reg = bin_centers[y_pred_reg_binned.astype(int)]\n",
        "\n",
        "# Regression Metrics\n",
        "mse = mean_squared_error(y_test_reg, y_pred_reg)\n",
        "rmse = np.sqrt(mse)\n",
        "r2 = r2_score(y_test_reg, y_pred_reg)\n",
        "mae = mean_absolute_error(y_test_reg, y_pred_reg)\n",
        "print(\"Regression Metrics (Naive Bayes with Discretization):\")\n",
        "print(f\"MSE: {mse:.2f}\")\n",
        "print(f\"RMSE: {rmse:.2f}\")\n",
        "print(f\"MAE: {mae:.2f}\")\n",
        "print(f\"R² score: {r2:.2f}\")\n"
      ],
      "metadata": {
        "colab": {
          "base_uri": "https://localhost:8080/"
        },
        "id": "dzt4d1uL8Ck0",
        "outputId": "2fa13c28-db08-45ff-fc13-fecc7582e438"
      },
      "execution_count": 76,
      "outputs": [
        {
          "output_type": "stream",
          "name": "stdout",
          "text": [
            "Regression Metrics (Naive Bayes with Discretization):\n",
            "MSE: 0.73\n",
            "RMSE: 0.86\n",
            "MAE: 0.65\n",
            "R² score: 0.47\n"
          ]
        }
      ]
    },
    {
      "cell_type": "code",
      "source": [
        "# Error Distribution Visualization\n",
        "plt.figure(figsize=(8,5))\n",
        "sns.histplot(y_test_reg - y_pred_reg, bins=30, kde=True, color='red')\n",
        "plt.title(\"Regression Error Distribution (Naive Bayes)\")\n",
        "plt.xlabel(\"Prediction Error\")\n",
        "plt.show()"
      ],
      "metadata": {
        "colab": {
          "base_uri": "https://localhost:8080/",
          "height": 487
        },
        "id": "74wcXd52FiD3",
        "outputId": "1997494d-098e-4d95-b5ae-8bd209b2c604"
      },
      "execution_count": 77,
      "outputs": [
        {
          "output_type": "display_data",
          "data": {
            "text/plain": [
              "<Figure size 800x500 with 1 Axes>"
            ],
            "image/png": "[encoded data removed]"
          },
          "metadata": {}
        }
      ]
    }
  ]
}